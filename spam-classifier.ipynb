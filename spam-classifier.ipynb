{
 "cells": [
  {
   "cell_type": "code",
   "execution_count": 1,
   "id": "5f75f41e",
   "metadata": {
    "_cell_guid": "b1076dfc-b9ad-4769-8c92-a6c4dae69d19",
    "_uuid": "8f2839f25d086af736a60e9eeb907d3b93b6e0e5",
    "execution": {
     "iopub.execute_input": "2024-04-20T17:30:07.502773Z",
     "iopub.status.busy": "2024-04-20T17:30:07.502191Z",
     "iopub.status.idle": "2024-04-20T17:30:08.447350Z",
     "shell.execute_reply": "2024-04-20T17:30:08.446161Z"
    },
    "papermill": {
     "duration": 0.963898,
     "end_time": "2024-04-20T17:30:08.450138",
     "exception": false,
     "start_time": "2024-04-20T17:30:07.486240",
     "status": "completed"
    },
    "tags": []
   },
   "outputs": [
    {
     "name": "stdout",
     "output_type": "stream",
     "text": [
      "/kaggle/input/sms-spam-collection-dataset/spam.csv\n"
     ]
    }
   ],
   "source": [
    "# This Python 3 environment comes with many helpful analytics libraries installed\n",
    "# It is defined by the kaggle/python Docker image: https://github.com/kaggle/docker-python\n",
    "# For example, here's several helpful packages to load\n",
    "\n",
    "import numpy as np # linear algebra\n",
    "import pandas as pd # data processing, CSV file I/O (e.g. pd.read_csv)\n",
    "\n",
    "# Input data files are available in the read-only \"../input/\" directory\n",
    "# For example, running this (by clicking run or pressing Shift+Enter) will list all files under the input directory\n",
    "\n",
    "import os\n",
    "for dirname, _, filenames in os.walk('/kaggle/input'):\n",
    "    for filename in filenames:\n",
    "        print(os.path.join(dirname, filename))\n",
    "\n",
    "# You can write up to 20GB to the current directory (/kaggle/working/) that gets preserved as output when you create a version using \"Save & Run All\" \n",
    "# You can also write temporary files to /kaggle/temp/, but they won't be saved outside of the current session"
   ]
  },
  {
   "cell_type": "code",
   "execution_count": 2,
   "id": "a481fecf",
   "metadata": {
    "execution": {
     "iopub.execute_input": "2024-04-20T17:30:08.477644Z",
     "iopub.status.busy": "2024-04-20T17:30:08.476931Z",
     "iopub.status.idle": "2024-04-20T17:30:08.556982Z",
     "shell.execute_reply": "2024-04-20T17:30:08.555808Z"
    },
    "papermill": {
     "duration": 0.097055,
     "end_time": "2024-04-20T17:30:08.559693",
     "exception": false,
     "start_time": "2024-04-20T17:30:08.462638",
     "status": "completed"
    },
    "tags": []
   },
   "outputs": [
    {
     "name": "stdout",
     "output_type": "stream",
     "text": [
      "Failed to read CSV with encoding: utf-8\n",
      "Successfully read CSV with encoding: latin1\n",
      "<class 'pandas.core.frame.DataFrame'>\n",
      "RangeIndex: 5572 entries, 0 to 5571\n",
      "Data columns (total 5 columns):\n",
      " #   Column      Non-Null Count  Dtype \n",
      "---  ------      --------------  ----- \n",
      " 0   v1          5572 non-null   object\n",
      " 1   v2          5572 non-null   object\n",
      " 2   Unnamed: 2  50 non-null     object\n",
      " 3   Unnamed: 3  12 non-null     object\n",
      " 4   Unnamed: 4  6 non-null      object\n",
      "dtypes: object(5)\n",
      "memory usage: 217.8+ KB\n",
      "None\n"
     ]
    }
   ],
   "source": [
    "import pandas as pd\n",
    "\n",
    "# List of encodings to try\n",
    "encodings = ['utf-8', 'latin1', 'iso-8859-1', 'cp1252']\n",
    "\n",
    "# Try reading the CSV file with different encodings\n",
    "for encoding in encodings:\n",
    "    try:\n",
    "        data = pd.read_csv(\"../input/sms-spam-collection-dataset/spam.csv\", encoding=encoding)\n",
    "        # If reading succeeds, print information about the DataFrame\n",
    "        print(\"Successfully read CSV with encoding:\", encoding)\n",
    "        print(data.info())\n",
    "        break  \n",
    "    except UnicodeDecodeError:\n",
    "        # If reading fails, continue to the next encoding\n",
    "        print(\"Failed to read CSV with encoding:\", encoding)\n",
    "\n"
   ]
  },
  {
   "cell_type": "code",
   "execution_count": 3,
   "id": "343f0f42",
   "metadata": {
    "execution": {
     "iopub.execute_input": "2024-04-20T17:30:08.585990Z",
     "iopub.status.busy": "2024-04-20T17:30:08.584658Z",
     "iopub.status.idle": "2024-04-20T17:30:08.603392Z",
     "shell.execute_reply": "2024-04-20T17:30:08.602274Z"
    },
    "papermill": {
     "duration": 0.034536,
     "end_time": "2024-04-20T17:30:08.606097",
     "exception": false,
     "start_time": "2024-04-20T17:30:08.571561",
     "status": "completed"
    },
    "tags": []
   },
   "outputs": [
    {
     "data": {
      "text/html": [
       "<div>\n",
       "<style scoped>\n",
       "    .dataframe tbody tr th:only-of-type {\n",
       "        vertical-align: middle;\n",
       "    }\n",
       "\n",
       "    .dataframe tbody tr th {\n",
       "        vertical-align: top;\n",
       "    }\n",
       "\n",
       "    .dataframe thead th {\n",
       "        text-align: right;\n",
       "    }\n",
       "</style>\n",
       "<table border=\"1\" class=\"dataframe\">\n",
       "  <thead>\n",
       "    <tr style=\"text-align: right;\">\n",
       "      <th></th>\n",
       "      <th>v1</th>\n",
       "      <th>v2</th>\n",
       "      <th>Unnamed: 2</th>\n",
       "      <th>Unnamed: 3</th>\n",
       "      <th>Unnamed: 4</th>\n",
       "    </tr>\n",
       "  </thead>\n",
       "  <tbody>\n",
       "    <tr>\n",
       "      <th>0</th>\n",
       "      <td>ham</td>\n",
       "      <td>Go until jurong point, crazy.. Available only ...</td>\n",
       "      <td>NaN</td>\n",
       "      <td>NaN</td>\n",
       "      <td>NaN</td>\n",
       "    </tr>\n",
       "    <tr>\n",
       "      <th>1</th>\n",
       "      <td>ham</td>\n",
       "      <td>Ok lar... Joking wif u oni...</td>\n",
       "      <td>NaN</td>\n",
       "      <td>NaN</td>\n",
       "      <td>NaN</td>\n",
       "    </tr>\n",
       "    <tr>\n",
       "      <th>2</th>\n",
       "      <td>spam</td>\n",
       "      <td>Free entry in 2 a wkly comp to win FA Cup fina...</td>\n",
       "      <td>NaN</td>\n",
       "      <td>NaN</td>\n",
       "      <td>NaN</td>\n",
       "    </tr>\n",
       "    <tr>\n",
       "      <th>3</th>\n",
       "      <td>ham</td>\n",
       "      <td>U dun say so early hor... U c already then say...</td>\n",
       "      <td>NaN</td>\n",
       "      <td>NaN</td>\n",
       "      <td>NaN</td>\n",
       "    </tr>\n",
       "    <tr>\n",
       "      <th>4</th>\n",
       "      <td>ham</td>\n",
       "      <td>Nah I don't think he goes to usf, he lives aro...</td>\n",
       "      <td>NaN</td>\n",
       "      <td>NaN</td>\n",
       "      <td>NaN</td>\n",
       "    </tr>\n",
       "  </tbody>\n",
       "</table>\n",
       "</div>"
      ],
      "text/plain": [
       "     v1                                                 v2 Unnamed: 2  \\\n",
       "0   ham  Go until jurong point, crazy.. Available only ...        NaN   \n",
       "1   ham                      Ok lar... Joking wif u oni...        NaN   \n",
       "2  spam  Free entry in 2 a wkly comp to win FA Cup fina...        NaN   \n",
       "3   ham  U dun say so early hor... U c already then say...        NaN   \n",
       "4   ham  Nah I don't think he goes to usf, he lives aro...        NaN   \n",
       "\n",
       "  Unnamed: 3 Unnamed: 4  \n",
       "0        NaN        NaN  \n",
       "1        NaN        NaN  \n",
       "2        NaN        NaN  \n",
       "3        NaN        NaN  \n",
       "4        NaN        NaN  "
      ]
     },
     "execution_count": 3,
     "metadata": {},
     "output_type": "execute_result"
    }
   ],
   "source": [
    "data.head()"
   ]
  },
  {
   "cell_type": "code",
   "execution_count": 4,
   "id": "0c3a5d46",
   "metadata": {
    "execution": {
     "iopub.execute_input": "2024-04-20T17:30:08.633281Z",
     "iopub.status.busy": "2024-04-20T17:30:08.632807Z",
     "iopub.status.idle": "2024-04-20T17:30:08.641182Z",
     "shell.execute_reply": "2024-04-20T17:30:08.640073Z"
    },
    "papermill": {
     "duration": 0.025027,
     "end_time": "2024-04-20T17:30:08.643585",
     "exception": false,
     "start_time": "2024-04-20T17:30:08.618558",
     "status": "completed"
    },
    "tags": []
   },
   "outputs": [],
   "source": [
    "data=data.drop(columns=['Unnamed: 2','Unnamed: 3','Unnamed: 4'],axis=1)"
   ]
  },
  {
   "cell_type": "code",
   "execution_count": 5,
   "id": "acb5b2f7",
   "metadata": {
    "execution": {
     "iopub.execute_input": "2024-04-20T17:30:08.670530Z",
     "iopub.status.busy": "2024-04-20T17:30:08.669740Z",
     "iopub.status.idle": "2024-04-20T17:30:08.681540Z",
     "shell.execute_reply": "2024-04-20T17:30:08.680326Z"
    },
    "papermill": {
     "duration": 0.028104,
     "end_time": "2024-04-20T17:30:08.683909",
     "exception": false,
     "start_time": "2024-04-20T17:30:08.655805",
     "status": "completed"
    },
    "tags": []
   },
   "outputs": [
    {
     "data": {
      "text/html": [
       "<div>\n",
       "<style scoped>\n",
       "    .dataframe tbody tr th:only-of-type {\n",
       "        vertical-align: middle;\n",
       "    }\n",
       "\n",
       "    .dataframe tbody tr th {\n",
       "        vertical-align: top;\n",
       "    }\n",
       "\n",
       "    .dataframe thead th {\n",
       "        text-align: right;\n",
       "    }\n",
       "</style>\n",
       "<table border=\"1\" class=\"dataframe\">\n",
       "  <thead>\n",
       "    <tr style=\"text-align: right;\">\n",
       "      <th></th>\n",
       "      <th>v1</th>\n",
       "      <th>v2</th>\n",
       "    </tr>\n",
       "  </thead>\n",
       "  <tbody>\n",
       "    <tr>\n",
       "      <th>0</th>\n",
       "      <td>ham</td>\n",
       "      <td>Go until jurong point, crazy.. Available only ...</td>\n",
       "    </tr>\n",
       "    <tr>\n",
       "      <th>1</th>\n",
       "      <td>ham</td>\n",
       "      <td>Ok lar... Joking wif u oni...</td>\n",
       "    </tr>\n",
       "    <tr>\n",
       "      <th>2</th>\n",
       "      <td>spam</td>\n",
       "      <td>Free entry in 2 a wkly comp to win FA Cup fina...</td>\n",
       "    </tr>\n",
       "    <tr>\n",
       "      <th>3</th>\n",
       "      <td>ham</td>\n",
       "      <td>U dun say so early hor... U c already then say...</td>\n",
       "    </tr>\n",
       "    <tr>\n",
       "      <th>4</th>\n",
       "      <td>ham</td>\n",
       "      <td>Nah I don't think he goes to usf, he lives aro...</td>\n",
       "    </tr>\n",
       "  </tbody>\n",
       "</table>\n",
       "</div>"
      ],
      "text/plain": [
       "     v1                                                 v2\n",
       "0   ham  Go until jurong point, crazy.. Available only ...\n",
       "1   ham                      Ok lar... Joking wif u oni...\n",
       "2  spam  Free entry in 2 a wkly comp to win FA Cup fina...\n",
       "3   ham  U dun say so early hor... U c already then say...\n",
       "4   ham  Nah I don't think he goes to usf, he lives aro..."
      ]
     },
     "execution_count": 5,
     "metadata": {},
     "output_type": "execute_result"
    }
   ],
   "source": [
    "data.head()"
   ]
  },
  {
   "cell_type": "code",
   "execution_count": 6,
   "id": "21b5505e",
   "metadata": {
    "execution": {
     "iopub.execute_input": "2024-04-20T17:30:08.714601Z",
     "iopub.status.busy": "2024-04-20T17:30:08.713339Z",
     "iopub.status.idle": "2024-04-20T17:30:08.721793Z",
     "shell.execute_reply": "2024-04-20T17:30:08.720615Z"
    },
    "papermill": {
     "duration": 0.024768,
     "end_time": "2024-04-20T17:30:08.724031",
     "exception": false,
     "start_time": "2024-04-20T17:30:08.699263",
     "status": "completed"
    },
    "tags": []
   },
   "outputs": [],
   "source": [
    "pattern={'ham':1,'spam':0}\n",
    "data['v1_encoded']=data['v1'].map(pattern)"
   ]
  },
  {
   "cell_type": "code",
   "execution_count": 7,
   "id": "a976033e",
   "metadata": {
    "execution": {
     "iopub.execute_input": "2024-04-20T17:30:08.752855Z",
     "iopub.status.busy": "2024-04-20T17:30:08.751940Z",
     "iopub.status.idle": "2024-04-20T17:30:08.765245Z",
     "shell.execute_reply": "2024-04-20T17:30:08.763946Z"
    },
    "papermill": {
     "duration": 0.030349,
     "end_time": "2024-04-20T17:30:08.768391",
     "exception": false,
     "start_time": "2024-04-20T17:30:08.738042",
     "status": "completed"
    },
    "tags": []
   },
   "outputs": [
    {
     "data": {
      "text/html": [
       "<div>\n",
       "<style scoped>\n",
       "    .dataframe tbody tr th:only-of-type {\n",
       "        vertical-align: middle;\n",
       "    }\n",
       "\n",
       "    .dataframe tbody tr th {\n",
       "        vertical-align: top;\n",
       "    }\n",
       "\n",
       "    .dataframe thead th {\n",
       "        text-align: right;\n",
       "    }\n",
       "</style>\n",
       "<table border=\"1\" class=\"dataframe\">\n",
       "  <thead>\n",
       "    <tr style=\"text-align: right;\">\n",
       "      <th></th>\n",
       "      <th>Target</th>\n",
       "      <th>Text</th>\n",
       "      <th>target_encoded</th>\n",
       "    </tr>\n",
       "  </thead>\n",
       "  <tbody>\n",
       "    <tr>\n",
       "      <th>0</th>\n",
       "      <td>ham</td>\n",
       "      <td>Go until jurong point, crazy.. Available only ...</td>\n",
       "      <td>1</td>\n",
       "    </tr>\n",
       "    <tr>\n",
       "      <th>1</th>\n",
       "      <td>ham</td>\n",
       "      <td>Ok lar... Joking wif u oni...</td>\n",
       "      <td>1</td>\n",
       "    </tr>\n",
       "    <tr>\n",
       "      <th>2</th>\n",
       "      <td>spam</td>\n",
       "      <td>Free entry in 2 a wkly comp to win FA Cup fina...</td>\n",
       "      <td>0</td>\n",
       "    </tr>\n",
       "    <tr>\n",
       "      <th>3</th>\n",
       "      <td>ham</td>\n",
       "      <td>U dun say so early hor... U c already then say...</td>\n",
       "      <td>1</td>\n",
       "    </tr>\n",
       "    <tr>\n",
       "      <th>4</th>\n",
       "      <td>ham</td>\n",
       "      <td>Nah I don't think he goes to usf, he lives aro...</td>\n",
       "      <td>1</td>\n",
       "    </tr>\n",
       "  </tbody>\n",
       "</table>\n",
       "</div>"
      ],
      "text/plain": [
       "  Target                                               Text  target_encoded\n",
       "0    ham  Go until jurong point, crazy.. Available only ...               1\n",
       "1    ham                      Ok lar... Joking wif u oni...               1\n",
       "2   spam  Free entry in 2 a wkly comp to win FA Cup fina...               0\n",
       "3    ham  U dun say so early hor... U c already then say...               1\n",
       "4    ham  Nah I don't think he goes to usf, he lives aro...               1"
      ]
     },
     "execution_count": 7,
     "metadata": {},
     "output_type": "execute_result"
    }
   ],
   "source": [
    "data.rename(columns = {\"v1\":\"Target\", \"v2\":\"Text\",'v1_encoded':'target_encoded'}, inplace = True)\n",
    "data.head()"
   ]
  },
  {
   "cell_type": "code",
   "execution_count": 8,
   "id": "6534df59",
   "metadata": {
    "execution": {
     "iopub.execute_input": "2024-04-20T17:30:08.795919Z",
     "iopub.status.busy": "2024-04-20T17:30:08.795437Z",
     "iopub.status.idle": "2024-04-20T17:30:10.520149Z",
     "shell.execute_reply": "2024-04-20T17:30:10.518967Z"
    },
    "papermill": {
     "duration": 1.741917,
     "end_time": "2024-04-20T17:30:10.522878",
     "exception": false,
     "start_time": "2024-04-20T17:30:08.780961",
     "status": "completed"
    },
    "tags": []
   },
   "outputs": [
    {
     "data": {
      "text/plain": [
       "Text(0, 0.5, 'Number of Data points')"
      ]
     },
     "execution_count": 8,
     "metadata": {},
     "output_type": "execute_result"
    },
    {
     "data": {
      "image/png": "[encoded data removed]",
      "text/plain": [
       "<Figure size 1200x800 with 1 Axes>"
      ]
     },
     "metadata": {},
     "output_type": "display_data"
    }
   ],
   "source": [
    "import matplotlib.pyplot as plt\n",
    "import seaborn as sns\n",
    "plt.figure(figsize=(12,8))\n",
    "fg = sns.countplot(x= data[\"Target\"], palette= ['blue','red'])\n",
    "fg.set_title(\"Count of plot\", color=\"black\")\n",
    "fg.set_xlabel(\"Classes\", color=\"darkblue\")\n",
    "fg.set_ylabel(\"Number of Data points\", color=\"darkblue\")"
   ]
  },
  {
   "cell_type": "markdown",
   "id": "c3dc25d2",
   "metadata": {
    "papermill": {
     "duration": 0.013494,
     "end_time": "2024-04-20T17:30:10.550286",
     "exception": false,
     "start_time": "2024-04-20T17:30:10.536792",
     "status": "completed"
    },
    "tags": []
   },
   "source": [
    "#### Total number of character"
   ]
  },
  {
   "cell_type": "code",
   "execution_count": 9,
   "id": "66413afa",
   "metadata": {
    "execution": {
     "iopub.execute_input": "2024-04-20T17:30:10.579825Z",
     "iopub.status.busy": "2024-04-20T17:30:10.579312Z",
     "iopub.status.idle": "2024-04-20T17:30:10.591360Z",
     "shell.execute_reply": "2024-04-20T17:30:10.589936Z"
    },
    "papermill": {
     "duration": 0.029829,
     "end_time": "2024-04-20T17:30:10.594150",
     "exception": false,
     "start_time": "2024-04-20T17:30:10.564321",
     "status": "completed"
    },
    "tags": []
   },
   "outputs": [],
   "source": [
    "data['total_characters']=data['Text'].apply(len)"
   ]
  },
  {
   "cell_type": "markdown",
   "id": "3269c6b5",
   "metadata": {
    "papermill": {
     "duration": 0.013141,
     "end_time": "2024-04-20T17:30:10.620833",
     "exception": false,
     "start_time": "2024-04-20T17:30:10.607692",
     "status": "completed"
    },
    "tags": []
   },
   "source": [
    "\n",
    "\n"
   ]
  },
  {
   "cell_type": "code",
   "execution_count": 10,
   "id": "5c20c337",
   "metadata": {
    "execution": {
     "iopub.execute_input": "2024-04-20T17:30:10.649543Z",
     "iopub.status.busy": "2024-04-20T17:30:10.649032Z",
     "iopub.status.idle": "2024-04-20T17:30:11.634769Z",
     "shell.execute_reply": "2024-04-20T17:30:11.633125Z"
    },
    "papermill": {
     "duration": 1.003646,
     "end_time": "2024-04-20T17:30:11.637879",
     "exception": false,
     "start_time": "2024-04-20T17:30:10.634233",
     "status": "completed"
    },
    "tags": []
   },
   "outputs": [],
   "source": [
    "import nltk\n",
    "from nltk.tokenize import word_tokenize,sent_tokenize"
   ]
  },
  {
   "cell_type": "code",
   "execution_count": 11,
   "id": "6d109e21",
   "metadata": {
    "execution": {
     "iopub.execute_input": "2024-04-20T17:30:11.666958Z",
     "iopub.status.busy": "2024-04-20T17:30:11.666480Z",
     "iopub.status.idle": "2024-04-20T17:30:14.126104Z",
     "shell.execute_reply": "2024-04-20T17:30:14.124830Z"
    },
    "papermill": {
     "duration": 2.477148,
     "end_time": "2024-04-20T17:30:14.128778",
     "exception": false,
     "start_time": "2024-04-20T17:30:11.651630",
     "status": "completed"
    },
    "tags": []
   },
   "outputs": [
    {
     "data": {
      "text/html": [
       "<div>\n",
       "<style scoped>\n",
       "    .dataframe tbody tr th:only-of-type {\n",
       "        vertical-align: middle;\n",
       "    }\n",
       "\n",
       "    .dataframe tbody tr th {\n",
       "        vertical-align: top;\n",
       "    }\n",
       "\n",
       "    .dataframe thead th {\n",
       "        text-align: right;\n",
       "    }\n",
       "</style>\n",
       "<table border=\"1\" class=\"dataframe\">\n",
       "  <thead>\n",
       "    <tr style=\"text-align: right;\">\n",
       "      <th></th>\n",
       "      <th>Target</th>\n",
       "      <th>Text</th>\n",
       "      <th>target_encoded</th>\n",
       "      <th>total_characters</th>\n",
       "      <th>total_sentence</th>\n",
       "      <th>total_word</th>\n",
       "    </tr>\n",
       "  </thead>\n",
       "  <tbody>\n",
       "    <tr>\n",
       "      <th>0</th>\n",
       "      <td>ham</td>\n",
       "      <td>Go until jurong point, crazy.. Available only ...</td>\n",
       "      <td>1</td>\n",
       "      <td>111</td>\n",
       "      <td>2</td>\n",
       "      <td>23</td>\n",
       "    </tr>\n",
       "    <tr>\n",
       "      <th>1</th>\n",
       "      <td>ham</td>\n",
       "      <td>Ok lar... Joking wif u oni...</td>\n",
       "      <td>1</td>\n",
       "      <td>29</td>\n",
       "      <td>2</td>\n",
       "      <td>8</td>\n",
       "    </tr>\n",
       "    <tr>\n",
       "      <th>2</th>\n",
       "      <td>spam</td>\n",
       "      <td>Free entry in 2 a wkly comp to win FA Cup fina...</td>\n",
       "      <td>0</td>\n",
       "      <td>155</td>\n",
       "      <td>2</td>\n",
       "      <td>37</td>\n",
       "    </tr>\n",
       "    <tr>\n",
       "      <th>3</th>\n",
       "      <td>ham</td>\n",
       "      <td>U dun say so early hor... U c already then say...</td>\n",
       "      <td>1</td>\n",
       "      <td>49</td>\n",
       "      <td>1</td>\n",
       "      <td>13</td>\n",
       "    </tr>\n",
       "    <tr>\n",
       "      <th>4</th>\n",
       "      <td>ham</td>\n",
       "      <td>Nah I don't think he goes to usf, he lives aro...</td>\n",
       "      <td>1</td>\n",
       "      <td>61</td>\n",
       "      <td>1</td>\n",
       "      <td>15</td>\n",
       "    </tr>\n",
       "  </tbody>\n",
       "</table>\n",
       "</div>"
      ],
      "text/plain": [
       "  Target                                               Text  target_encoded  \\\n",
       "0    ham  Go until jurong point, crazy.. Available only ...               1   \n",
       "1    ham                      Ok lar... Joking wif u oni...               1   \n",
       "2   spam  Free entry in 2 a wkly comp to win FA Cup fina...               0   \n",
       "3    ham  U dun say so early hor... U c already then say...               1   \n",
       "4    ham  Nah I don't think he goes to usf, he lives aro...               1   \n",
       "\n",
       "   total_characters  total_sentence  total_word  \n",
       "0               111               2          23  \n",
       "1                29               2           8  \n",
       "2               155               2          37  \n",
       "3                49               1          13  \n",
       "4                61               1          15  "
      ]
     },
     "execution_count": 11,
     "metadata": {},
     "output_type": "execute_result"
    }
   ],
   "source": [
    "import re\n",
    "def tokenize_sentences(text):\n",
    "    return len(sent_tokenize(text))\n",
    "def tokenize_word(text):\n",
    "    return len(word_tokenize(text))\n",
    "\n",
    "data['total_sentence'] = data['Text'].apply(tokenize_sentences)\n",
    "data['total_word'] = data['Text'].apply(tokenize_word)\n",
    "data.head()"
   ]
  },
  {
   "cell_type": "code",
   "execution_count": 12,
   "id": "44af51d8",
   "metadata": {
    "execution": {
     "iopub.execute_input": "2024-04-20T17:30:14.158920Z",
     "iopub.status.busy": "2024-04-20T17:30:14.158353Z",
     "iopub.status.idle": "2024-04-20T17:30:14.185278Z",
     "shell.execute_reply": "2024-04-20T17:30:14.184132Z"
    },
    "papermill": {
     "duration": 0.045113,
     "end_time": "2024-04-20T17:30:14.187976",
     "exception": false,
     "start_time": "2024-04-20T17:30:14.142863",
     "status": "completed"
    },
    "tags": []
   },
   "outputs": [
    {
     "data": {
      "text/html": [
       "<div>\n",
       "<style scoped>\n",
       "    .dataframe tbody tr th:only-of-type {\n",
       "        vertical-align: middle;\n",
       "    }\n",
       "\n",
       "    .dataframe tbody tr th {\n",
       "        vertical-align: top;\n",
       "    }\n",
       "\n",
       "    .dataframe thead th {\n",
       "        text-align: right;\n",
       "    }\n",
       "</style>\n",
       "<table border=\"1\" class=\"dataframe\">\n",
       "  <thead>\n",
       "    <tr style=\"text-align: right;\">\n",
       "      <th></th>\n",
       "      <th>target_encoded</th>\n",
       "      <th>total_characters</th>\n",
       "      <th>total_sentence</th>\n",
       "      <th>total_word</th>\n",
       "    </tr>\n",
       "  </thead>\n",
       "  <tbody>\n",
       "    <tr>\n",
       "      <th>count</th>\n",
       "      <td>5572.000000</td>\n",
       "      <td>5572.000000</td>\n",
       "      <td>5572.000000</td>\n",
       "      <td>5572.000000</td>\n",
       "    </tr>\n",
       "    <tr>\n",
       "      <th>mean</th>\n",
       "      <td>0.865937</td>\n",
       "      <td>80.118808</td>\n",
       "      <td>1.991565</td>\n",
       "      <td>18.501256</td>\n",
       "    </tr>\n",
       "    <tr>\n",
       "      <th>std</th>\n",
       "      <td>0.340751</td>\n",
       "      <td>59.690841</td>\n",
       "      <td>1.501427</td>\n",
       "      <td>13.637056</td>\n",
       "    </tr>\n",
       "    <tr>\n",
       "      <th>min</th>\n",
       "      <td>0.000000</td>\n",
       "      <td>2.000000</td>\n",
       "      <td>1.000000</td>\n",
       "      <td>1.000000</td>\n",
       "    </tr>\n",
       "    <tr>\n",
       "      <th>25%</th>\n",
       "      <td>1.000000</td>\n",
       "      <td>36.000000</td>\n",
       "      <td>1.000000</td>\n",
       "      <td>9.000000</td>\n",
       "    </tr>\n",
       "    <tr>\n",
       "      <th>50%</th>\n",
       "      <td>1.000000</td>\n",
       "      <td>61.000000</td>\n",
       "      <td>1.500000</td>\n",
       "      <td>15.000000</td>\n",
       "    </tr>\n",
       "    <tr>\n",
       "      <th>75%</th>\n",
       "      <td>1.000000</td>\n",
       "      <td>121.000000</td>\n",
       "      <td>2.000000</td>\n",
       "      <td>27.000000</td>\n",
       "    </tr>\n",
       "    <tr>\n",
       "      <th>max</th>\n",
       "      <td>1.000000</td>\n",
       "      <td>910.000000</td>\n",
       "      <td>38.000000</td>\n",
       "      <td>219.000000</td>\n",
       "    </tr>\n",
       "  </tbody>\n",
       "</table>\n",
       "</div>"
      ],
      "text/plain": [
       "       target_encoded  total_characters  total_sentence   total_word\n",
       "count     5572.000000       5572.000000     5572.000000  5572.000000\n",
       "mean         0.865937         80.118808        1.991565    18.501256\n",
       "std          0.340751         59.690841        1.501427    13.637056\n",
       "min          0.000000          2.000000        1.000000     1.000000\n",
       "25%          1.000000         36.000000        1.000000     9.000000\n",
       "50%          1.000000         61.000000        1.500000    15.000000\n",
       "75%          1.000000        121.000000        2.000000    27.000000\n",
       "max          1.000000        910.000000       38.000000   219.000000"
      ]
     },
     "execution_count": 12,
     "metadata": {},
     "output_type": "execute_result"
    }
   ],
   "source": [
    "data.describe()"
   ]
  },
  {
   "cell_type": "code",
   "execution_count": 13,
   "id": "f04437bd",
   "metadata": {
    "execution": {
     "iopub.execute_input": "2024-04-20T17:30:14.217970Z",
     "iopub.status.busy": "2024-04-20T17:30:14.217484Z",
     "iopub.status.idle": "2024-04-20T17:30:14.228998Z",
     "shell.execute_reply": "2024-04-20T17:30:14.227772Z"
    },
    "papermill": {
     "duration": 0.029324,
     "end_time": "2024-04-20T17:30:14.231326",
     "exception": false,
     "start_time": "2024-04-20T17:30:14.202002",
     "status": "completed"
    },
    "tags": []
   },
   "outputs": [
    {
     "data": {
      "text/plain": [
       "Target              0\n",
       "Text                0\n",
       "target_encoded      0\n",
       "total_characters    0\n",
       "total_sentence      0\n",
       "total_word          0\n",
       "dtype: int64"
      ]
     },
     "execution_count": 13,
     "metadata": {},
     "output_type": "execute_result"
    }
   ],
   "source": [
    "data.isnull().sum()"
   ]
  },
  {
   "cell_type": "code",
   "execution_count": 14,
   "id": "64588bda",
   "metadata": {
    "execution": {
     "iopub.execute_input": "2024-04-20T17:30:14.262964Z",
     "iopub.status.busy": "2024-04-20T17:30:14.261665Z",
     "iopub.status.idle": "2024-04-20T17:30:20.628073Z",
     "shell.execute_reply": "2024-04-20T17:30:20.627048Z"
    },
    "papermill": {
     "duration": 6.385849,
     "end_time": "2024-04-20T17:30:20.631766",
     "exception": false,
     "start_time": "2024-04-20T17:30:14.245917",
     "status": "completed"
    },
    "tags": []
   },
   "outputs": [
    {
     "name": "stderr",
     "output_type": "stream",
     "text": [
      "/opt/conda/lib/python3.10/site-packages/seaborn/_oldcore.py:1119: FutureWarning: use_inf_as_na option is deprecated and will be removed in a future version. Convert inf values to NaN before operating instead.\n",
      "  with pd.option_context('mode.use_inf_as_na', True):\n",
      "/opt/conda/lib/python3.10/site-packages/seaborn/_oldcore.py:1075: FutureWarning: When grouping with a length-1 list-like, you will need to pass a length-1 tuple to get_group in a future version of pandas. Pass `(name,)` instead of `name` to silence this warning.\n",
      "  data_subset = grouped_data.get_group(pd_key)\n",
      "/opt/conda/lib/python3.10/site-packages/seaborn/_oldcore.py:1075: FutureWarning: When grouping with a length-1 list-like, you will need to pass a length-1 tuple to get_group in a future version of pandas. Pass `(name,)` instead of `name` to silence this warning.\n",
      "  data_subset = grouped_data.get_group(pd_key)\n",
      "/opt/conda/lib/python3.10/site-packages/seaborn/_oldcore.py:1119: FutureWarning: use_inf_as_na option is deprecated and will be removed in a future version. Convert inf values to NaN before operating instead.\n",
      "  with pd.option_context('mode.use_inf_as_na', True):\n",
      "/opt/conda/lib/python3.10/site-packages/seaborn/_oldcore.py:1075: FutureWarning: When grouping with a length-1 list-like, you will need to pass a length-1 tuple to get_group in a future version of pandas. Pass `(name,)` instead of `name` to silence this warning.\n",
      "  data_subset = grouped_data.get_group(pd_key)\n",
      "/opt/conda/lib/python3.10/site-packages/seaborn/_oldcore.py:1075: FutureWarning: When grouping with a length-1 list-like, you will need to pass a length-1 tuple to get_group in a future version of pandas. Pass `(name,)` instead of `name` to silence this warning.\n",
      "  data_subset = grouped_data.get_group(pd_key)\n",
      "/opt/conda/lib/python3.10/site-packages/seaborn/_oldcore.py:1119: FutureWarning: use_inf_as_na option is deprecated and will be removed in a future version. Convert inf values to NaN before operating instead.\n",
      "  with pd.option_context('mode.use_inf_as_na', True):\n",
      "/opt/conda/lib/python3.10/site-packages/seaborn/_oldcore.py:1075: FutureWarning: When grouping with a length-1 list-like, you will need to pass a length-1 tuple to get_group in a future version of pandas. Pass `(name,)` instead of `name` to silence this warning.\n",
      "  data_subset = grouped_data.get_group(pd_key)\n",
      "/opt/conda/lib/python3.10/site-packages/seaborn/_oldcore.py:1075: FutureWarning: When grouping with a length-1 list-like, you will need to pass a length-1 tuple to get_group in a future version of pandas. Pass `(name,)` instead of `name` to silence this warning.\n",
      "  data_subset = grouped_data.get_group(pd_key)\n"
     ]
    },
    {
     "data": {
      "text/plain": [
       "<Figure size 1200x800 with 0 Axes>"
      ]
     },
     "metadata": {},
     "output_type": "display_data"
    },
    {
     "data": {
      "image/png": "[encoded data removed]",
      "text/plain": [
       "<Figure size 870.236x750 with 12 Axes>"
      ]
     },
     "metadata": {},
     "output_type": "display_data"
    }
   ],
   "source": [
    "\n",
    "plt.figure(figsize=(12, 8))\n",
    "fg = sns.pairplot(data=data, hue=\"target_encoded\",palette=['red','blue'])\n",
    "plt.show(fg)\n"
   ]
  },
  {
   "cell_type": "code",
   "execution_count": null,
   "id": "d667088c",
   "metadata": {
    "papermill": {
     "duration": 0.015888,
     "end_time": "2024-04-20T17:30:20.663840",
     "exception": false,
     "start_time": "2024-04-20T17:30:20.647952",
     "status": "completed"
    },
    "tags": []
   },
   "outputs": [],
   "source": []
  },
  {
   "cell_type": "code",
   "execution_count": 15,
   "id": "13e5dd11",
   "metadata": {
    "execution": {
     "iopub.execute_input": "2024-04-20T17:30:20.700597Z",
     "iopub.status.busy": "2024-04-20T17:30:20.699395Z",
     "iopub.status.idle": "2024-04-20T17:30:27.003448Z",
     "shell.execute_reply": "2024-04-20T17:30:27.001093Z"
    },
    "papermill": {
     "duration": 6.324201,
     "end_time": "2024-04-20T17:30:27.006153",
     "exception": false,
     "start_time": "2024-04-20T17:30:20.681952",
     "status": "completed"
    },
    "tags": []
   },
   "outputs": [
    {
     "name": "stderr",
     "output_type": "stream",
     "text": [
      "/opt/conda/lib/python3.10/site-packages/seaborn/_oldcore.py:1119: FutureWarning: use_inf_as_na option is deprecated and will be removed in a future version. Convert inf values to NaN before operating instead.\n",
      "  with pd.option_context('mode.use_inf_as_na', True):\n",
      "/opt/conda/lib/python3.10/site-packages/seaborn/_oldcore.py:1075: FutureWarning: When grouping with a length-1 list-like, you will need to pass a length-1 tuple to get_group in a future version of pandas. Pass `(name,)` instead of `name` to silence this warning.\n",
      "  data_subset = grouped_data.get_group(pd_key)\n",
      "/opt/conda/lib/python3.10/site-packages/seaborn/_oldcore.py:1075: FutureWarning: When grouping with a length-1 list-like, you will need to pass a length-1 tuple to get_group in a future version of pandas. Pass `(name,)` instead of `name` to silence this warning.\n",
      "  data_subset = grouped_data.get_group(pd_key)\n",
      "/opt/conda/lib/python3.10/site-packages/seaborn/_oldcore.py:1119: FutureWarning: use_inf_as_na option is deprecated and will be removed in a future version. Convert inf values to NaN before operating instead.\n",
      "  with pd.option_context('mode.use_inf_as_na', True):\n",
      "/opt/conda/lib/python3.10/site-packages/seaborn/_oldcore.py:1075: FutureWarning: When grouping with a length-1 list-like, you will need to pass a length-1 tuple to get_group in a future version of pandas. Pass `(name,)` instead of `name` to silence this warning.\n",
      "  data_subset = grouped_data.get_group(pd_key)\n",
      "/opt/conda/lib/python3.10/site-packages/seaborn/_oldcore.py:1075: FutureWarning: When grouping with a length-1 list-like, you will need to pass a length-1 tuple to get_group in a future version of pandas. Pass `(name,)` instead of `name` to silence this warning.\n",
      "  data_subset = grouped_data.get_group(pd_key)\n",
      "/opt/conda/lib/python3.10/site-packages/seaborn/_oldcore.py:1119: FutureWarning: use_inf_as_na option is deprecated and will be removed in a future version. Convert inf values to NaN before operating instead.\n",
      "  with pd.option_context('mode.use_inf_as_na', True):\n",
      "/opt/conda/lib/python3.10/site-packages/seaborn/_oldcore.py:1075: FutureWarning: When grouping with a length-1 list-like, you will need to pass a length-1 tuple to get_group in a future version of pandas. Pass `(name,)` instead of `name` to silence this warning.\n",
      "  data_subset = grouped_data.get_group(pd_key)\n",
      "/opt/conda/lib/python3.10/site-packages/seaborn/_oldcore.py:1075: FutureWarning: When grouping with a length-1 list-like, you will need to pass a length-1 tuple to get_group in a future version of pandas. Pass `(name,)` instead of `name` to silence this warning.\n",
      "  data_subset = grouped_data.get_group(pd_key)\n"
     ]
    },
    {
     "data": {
      "text/plain": [
       "<Figure size 1200x800 with 0 Axes>"
      ]
     },
     "metadata": {},
     "output_type": "display_data"
    },
    {
     "data": {
      "image/png": "[encoded data removed]",
      "text/plain": [
       "<Figure size 870.236x750 with 12 Axes>"
      ]
     },
     "metadata": {},
     "output_type": "display_data"
    }
   ],
   "source": [
    "\n",
    "plt.figure(figsize=(12, 8))\n",
    "fg = sns.pairplot(data=data, hue=\"target_encoded\",palette=['red','blue'])\n",
    "plt.show(fg)\n"
   ]
  },
  {
   "cell_type": "code",
   "execution_count": 16,
   "id": "fc5e3b95",
   "metadata": {
    "execution": {
     "iopub.execute_input": "2024-04-20T17:30:27.044862Z",
     "iopub.status.busy": "2024-04-20T17:30:27.044332Z",
     "iopub.status.idle": "2024-04-20T17:30:27.087066Z",
     "shell.execute_reply": "2024-04-20T17:30:27.085774Z"
    },
    "papermill": {
     "duration": 0.065718,
     "end_time": "2024-04-20T17:30:27.089924",
     "exception": false,
     "start_time": "2024-04-20T17:30:27.024206",
     "status": "completed"
    },
    "tags": []
   },
   "outputs": [],
   "source": [
    "import re\n",
    "\n",
    "def text_cleaning(text):\n",
    "    # Remove all special characters\n",
    "    cleaned_text = re.sub(r'[^a-zA-Z0-9\\s]', '', text)\n",
    "    \n",
    "    return cleaned_text\n",
    "\n",
    "# Apply the text_cleaning function to the 'Text' column and create a new column 'clean_text'\n",
    "data['clean_text'] = data['Text'].apply(text_cleaning)\n"
   ]
  },
  {
   "cell_type": "code",
   "execution_count": 17,
   "id": "92811ce0",
   "metadata": {
    "execution": {
     "iopub.execute_input": "2024-04-20T17:30:27.129036Z",
     "iopub.status.busy": "2024-04-20T17:30:27.128489Z",
     "iopub.status.idle": "2024-04-20T17:30:27.137174Z",
     "shell.execute_reply": "2024-04-20T17:30:27.135932Z"
    },
    "papermill": {
     "duration": 0.031464,
     "end_time": "2024-04-20T17:30:27.139689",
     "exception": false,
     "start_time": "2024-04-20T17:30:27.108225",
     "status": "completed"
    },
    "tags": []
   },
   "outputs": [
    {
     "data": {
      "text/plain": [
       "'Go until jurong point crazy Available only in bugis n great world la e buffet Cine there got amore wat'"
      ]
     },
     "execution_count": 17,
     "metadata": {},
     "output_type": "execute_result"
    }
   ],
   "source": [
    "data['clean_text'][0]"
   ]
  },
  {
   "cell_type": "code",
   "execution_count": 18,
   "id": "bcc19925",
   "metadata": {
    "execution": {
     "iopub.execute_input": "2024-04-20T17:30:27.179716Z",
     "iopub.status.busy": "2024-04-20T17:30:27.179224Z",
     "iopub.status.idle": "2024-04-20T17:30:28.381990Z",
     "shell.execute_reply": "2024-04-20T17:30:28.380577Z"
    },
    "papermill": {
     "duration": 1.226982,
     "end_time": "2024-04-20T17:30:28.385605",
     "exception": false,
     "start_time": "2024-04-20T17:30:27.158623",
     "status": "completed"
    },
    "tags": []
   },
   "outputs": [],
   "source": [
    "def tokenize(text):\n",
    "    return word_tokenize(text)\n",
    "data['tokenize_text']=data['clean_text'].apply(tokenize)"
   ]
  },
  {
   "cell_type": "code",
   "execution_count": 19,
   "id": "03725409",
   "metadata": {
    "execution": {
     "iopub.execute_input": "2024-04-20T17:30:28.426401Z",
     "iopub.status.busy": "2024-04-20T17:30:28.425905Z",
     "iopub.status.idle": "2024-04-20T17:30:28.432403Z",
     "shell.execute_reply": "2024-04-20T17:30:28.431285Z"
    },
    "papermill": {
     "duration": 0.029843,
     "end_time": "2024-04-20T17:30:28.435186",
     "exception": false,
     "start_time": "2024-04-20T17:30:28.405343",
     "status": "completed"
    },
    "tags": []
   },
   "outputs": [
    {
     "name": "stdout",
     "output_type": "stream",
     "text": [
      "['Go', 'until', 'jurong', 'point', 'crazy', 'Available', 'only', 'in', 'bugis', 'n', 'great', 'world', 'la', 'e', 'buffet', 'Cine', 'there', 'got', 'amore', 'wat']\n"
     ]
    }
   ],
   "source": [
    "print(data['tokenize_text'][0])"
   ]
  },
  {
   "cell_type": "code",
   "execution_count": 20,
   "id": "94bab76b",
   "metadata": {
    "execution": {
     "iopub.execute_input": "2024-04-20T17:30:28.474253Z",
     "iopub.status.busy": "2024-04-20T17:30:28.473740Z",
     "iopub.status.idle": "2024-04-20T17:30:28.480038Z",
     "shell.execute_reply": "2024-04-20T17:30:28.478903Z"
    },
    "papermill": {
     "duration": 0.028689,
     "end_time": "2024-04-20T17:30:28.482496",
     "exception": false,
     "start_time": "2024-04-20T17:30:28.453807",
     "status": "completed"
    },
    "tags": []
   },
   "outputs": [
    {
     "name": "stdout",
     "output_type": "stream",
     "text": [
      "Go until jurong point crazy Available only in bugis n great world la e buffet Cine there got amore wat\n"
     ]
    }
   ],
   "source": [
    "print(data['clean_text'][0])"
   ]
  },
  {
   "cell_type": "code",
   "execution_count": 21,
   "id": "4e45f60c",
   "metadata": {
    "execution": {
     "iopub.execute_input": "2024-04-20T17:30:28.522101Z",
     "iopub.status.busy": "2024-04-20T17:30:28.521595Z",
     "iopub.status.idle": "2024-04-20T17:30:30.832464Z",
     "shell.execute_reply": "2024-04-20T17:30:30.831103Z"
    },
    "papermill": {
     "duration": 2.334575,
     "end_time": "2024-04-20T17:30:30.835552",
     "exception": false,
     "start_time": "2024-04-20T17:30:28.500977",
     "status": "completed"
    },
    "tags": []
   },
   "outputs": [],
   "source": [
    "from nltk.stem.wordnet import WordNetLemmatizer\n",
    "from nltk.corpus import stopwords\n",
    "from nltk.corpus import stopwords\n",
    "from nltk.tokenize import word_tokenize\n",
    "\n",
    "def remove_stop(text):\n",
    "    stop_words = set(stopwords.words('english'))\n",
    "    tokens = word_tokenize(text)\n",
    "    res = [word for word in tokens if word not in stop_words]\n",
    "    return res\n",
    "\n",
    "# Assuming you already have 'tokenize_text' column\n",
    "data['removed_text'] = data['clean_text'].apply(remove_stop)\n"
   ]
  },
  {
   "cell_type": "code",
   "execution_count": 22,
   "id": "9e1c7f9f",
   "metadata": {
    "execution": {
     "iopub.execute_input": "2024-04-20T17:30:30.875538Z",
     "iopub.status.busy": "2024-04-20T17:30:30.875083Z",
     "iopub.status.idle": "2024-04-20T17:30:30.881131Z",
     "shell.execute_reply": "2024-04-20T17:30:30.880015Z"
    },
    "papermill": {
     "duration": 0.028835,
     "end_time": "2024-04-20T17:30:30.883274",
     "exception": false,
     "start_time": "2024-04-20T17:30:30.854439",
     "status": "completed"
    },
    "tags": []
   },
   "outputs": [
    {
     "name": "stdout",
     "output_type": "stream",
     "text": [
      "['Go', 'jurong', 'point', 'crazy', 'Available', 'bugis', 'n', 'great', 'world', 'la', 'e', 'buffet', 'Cine', 'got', 'amore', 'wat']\n"
     ]
    }
   ],
   "source": [
    "print(data['removed_text'][0])"
   ]
  },
  {
   "cell_type": "code",
   "execution_count": 23,
   "id": "6e67ab74",
   "metadata": {
    "execution": {
     "iopub.execute_input": "2024-04-20T17:30:30.923008Z",
     "iopub.status.busy": "2024-04-20T17:30:30.922491Z",
     "iopub.status.idle": "2024-04-20T17:30:30.928063Z",
     "shell.execute_reply": "2024-04-20T17:30:30.926917Z"
    },
    "papermill": {
     "duration": 0.028706,
     "end_time": "2024-04-20T17:30:30.930687",
     "exception": false,
     "start_time": "2024-04-20T17:30:30.901981",
     "status": "completed"
    },
    "tags": []
   },
   "outputs": [],
   "source": [
    "from nltk.stem.wordnet import WordNetLemmatizer"
   ]
  },
  {
   "cell_type": "code",
   "execution_count": 24,
   "id": "0ff39b0e",
   "metadata": {
    "execution": {
     "iopub.execute_input": "2024-04-20T17:30:30.970288Z",
     "iopub.status.busy": "2024-04-20T17:30:30.968877Z",
     "iopub.status.idle": "2024-04-20T17:30:32.456681Z",
     "shell.execute_reply": "2024-04-20T17:30:32.455368Z"
    },
    "papermill": {
     "duration": 1.510509,
     "end_time": "2024-04-20T17:30:32.459859",
     "exception": false,
     "start_time": "2024-04-20T17:30:30.949350",
     "status": "completed"
    },
    "tags": []
   },
   "outputs": [
    {
     "name": "stdout",
     "output_type": "stream",
     "text": [
      "Archive:  /usr/share/nltk_data/corpora/wordnet.zip\r\n",
      "   creating: /usr/share/nltk_data/corpora/wordnet/\r\n",
      "  inflating: /usr/share/nltk_data/corpora/wordnet/lexnames  \r\n",
      "  inflating: /usr/share/nltk_data/corpora/wordnet/data.verb  \r\n",
      "  inflating: /usr/share/nltk_data/corpora/wordnet/index.adv  \r\n",
      "  inflating: /usr/share/nltk_data/corpora/wordnet/adv.exc  \r\n",
      "  inflating: /usr/share/nltk_data/corpora/wordnet/index.verb  \r\n",
      "  inflating: /usr/share/nltk_data/corpora/wordnet/cntlist.rev  \r\n",
      "  inflating: /usr/share/nltk_data/corpora/wordnet/data.adj  \r\n",
      "  inflating: /usr/share/nltk_data/corpora/wordnet/index.adj  \r\n",
      "  inflating: /usr/share/nltk_data/corpora/wordnet/LICENSE  \r\n",
      "  inflating: /usr/share/nltk_data/corpora/wordnet/citation.bib  \r\n",
      "  inflating: /usr/share/nltk_data/corpora/wordnet/noun.exc  \r\n",
      "  inflating: /usr/share/nltk_data/corpora/wordnet/verb.exc  \r\n",
      "  inflating: /usr/share/nltk_data/corpora/wordnet/README  \r\n",
      "  inflating: /usr/share/nltk_data/corpora/wordnet/index.sense  \r\n",
      "  inflating: /usr/share/nltk_data/corpora/wordnet/data.noun  \r\n",
      "  inflating: /usr/share/nltk_data/corpora/wordnet/data.adv  \r\n",
      "  inflating: /usr/share/nltk_data/corpora/wordnet/index.noun  \r\n",
      "  inflating: /usr/share/nltk_data/corpora/wordnet/adj.exc  \r\n"
     ]
    }
   ],
   "source": [
    "!unzip /usr/share/nltk_data/corpora/wordnet.zip -d /usr/share/nltk_data/corpora/ "
   ]
  },
  {
   "cell_type": "code",
   "execution_count": 25,
   "id": "31630f00",
   "metadata": {
    "execution": {
     "iopub.execute_input": "2024-04-20T17:30:32.502931Z",
     "iopub.status.busy": "2024-04-20T17:30:32.501871Z",
     "iopub.status.idle": "2024-04-20T17:30:32.638067Z",
     "shell.execute_reply": "2024-04-20T17:30:32.636488Z"
    },
    "papermill": {
     "duration": 0.161846,
     "end_time": "2024-04-20T17:30:32.641267",
     "exception": false,
     "start_time": "2024-04-20T17:30:32.479421",
     "status": "completed"
    },
    "tags": []
   },
   "outputs": [
    {
     "name": "stdout",
     "output_type": "stream",
     "text": [
      "[nltk_data] Downloading package wordnet to /usr/share/nltk_data...\n",
      "[nltk_data]   Package wordnet is already up-to-date!\n"
     ]
    }
   ],
   "source": [
    "import nltk\n",
    "\n",
    "# Reset NLTK data path to default locations\n",
    "nltk.data.path = nltk.data.path + ['/usr/share/nltk_data']\n",
    "\n",
    "# Download the WordNet corpus\n",
    "nltk.download('wordnet')\n",
    "\n",
    "lemma=WordNetLemmatizer()\n"
   ]
  },
  {
   "cell_type": "code",
   "execution_count": 26,
   "id": "8edd8d07",
   "metadata": {
    "execution": {
     "iopub.execute_input": "2024-04-20T17:30:32.682799Z",
     "iopub.status.busy": "2024-04-20T17:30:32.682282Z",
     "iopub.status.idle": "2024-04-20T17:30:35.910076Z",
     "shell.execute_reply": "2024-04-20T17:30:35.908933Z"
    },
    "papermill": {
     "duration": 3.251662,
     "end_time": "2024-04-20T17:30:35.912927",
     "exception": false,
     "start_time": "2024-04-20T17:30:32.661265",
     "status": "completed"
    },
    "tags": []
   },
   "outputs": [],
   "source": [
    "def lemmatize_word(text):\n",
    "    res=[lemma.lemmatize(word) for word in text]\n",
    "    return res\n",
    "data[\"Lemmatized_Text\"] = data[\"removed_text\"].apply(lemmatize_word)"
   ]
  },
  {
   "cell_type": "code",
   "execution_count": 27,
   "id": "a4161da7",
   "metadata": {
    "execution": {
     "iopub.execute_input": "2024-04-20T17:30:35.955078Z",
     "iopub.status.busy": "2024-04-20T17:30:35.953985Z",
     "iopub.status.idle": "2024-04-20T17:30:35.966650Z",
     "shell.execute_reply": "2024-04-20T17:30:35.965740Z"
    },
    "papermill": {
     "duration": 0.03691,
     "end_time": "2024-04-20T17:30:35.969291",
     "exception": false,
     "start_time": "2024-04-20T17:30:35.932381",
     "status": "completed"
    },
    "tags": []
   },
   "outputs": [],
   "source": [
    "def join_sent(words):\n",
    "    return ' '.join(words)\n",
    "data['corpus']=data['Lemmatized_Text'].apply(join_sent)"
   ]
  },
  {
   "cell_type": "code",
   "execution_count": 28,
   "id": "f7465b5f",
   "metadata": {
    "execution": {
     "iopub.execute_input": "2024-04-20T17:30:36.010158Z",
     "iopub.status.busy": "2024-04-20T17:30:36.009636Z",
     "iopub.status.idle": "2024-04-20T17:30:36.017277Z",
     "shell.execute_reply": "2024-04-20T17:30:36.016145Z"
    },
    "papermill": {
     "duration": 0.031165,
     "end_time": "2024-04-20T17:30:36.019705",
     "exception": false,
     "start_time": "2024-04-20T17:30:35.988540",
     "status": "completed"
    },
    "tags": []
   },
   "outputs": [
    {
     "data": {
      "text/plain": [
       "'Go jurong point crazy Available bugis n great world la e buffet Cine got amore wat'"
      ]
     },
     "execution_count": 28,
     "metadata": {},
     "output_type": "execute_result"
    }
   ],
   "source": [
    "data['corpus'][0]"
   ]
  },
  {
   "cell_type": "code",
   "execution_count": 29,
   "id": "02bb5e91",
   "metadata": {
    "execution": {
     "iopub.execute_input": "2024-04-20T17:30:36.063976Z",
     "iopub.status.busy": "2024-04-20T17:30:36.063138Z",
     "iopub.status.idle": "2024-04-20T17:30:36.070589Z",
     "shell.execute_reply": "2024-04-20T17:30:36.069775Z"
    },
    "papermill": {
     "duration": 0.03331,
     "end_time": "2024-04-20T17:30:36.072674",
     "exception": false,
     "start_time": "2024-04-20T17:30:36.039364",
     "status": "completed"
    },
    "tags": []
   },
   "outputs": [
    {
     "data": {
      "text/plain": [
       "Index(['Target', 'Text', 'target_encoded', 'total_characters',\n",
       "       'total_sentence', 'total_word', 'clean_text', 'tokenize_text',\n",
       "       'removed_text', 'Lemmatized_Text', 'corpus'],\n",
       "      dtype='object')"
      ]
     },
     "execution_count": 29,
     "metadata": {},
     "output_type": "execute_result"
    }
   ],
   "source": [
    "data.columns"
   ]
  },
  {
   "cell_type": "code",
   "execution_count": 30,
   "id": "dc124a3e",
   "metadata": {
    "execution": {
     "iopub.execute_input": "2024-04-20T17:30:36.116307Z",
     "iopub.status.busy": "2024-04-20T17:30:36.115037Z",
     "iopub.status.idle": "2024-04-20T17:30:36.120169Z",
     "shell.execute_reply": "2024-04-20T17:30:36.119320Z"
    },
    "papermill": {
     "duration": 0.02978,
     "end_time": "2024-04-20T17:30:36.122405",
     "exception": false,
     "start_time": "2024-04-20T17:30:36.092625",
     "status": "completed"
    },
    "tags": []
   },
   "outputs": [],
   "source": [
    "y=data['target_encoded']"
   ]
  },
  {
   "cell_type": "code",
   "execution_count": 31,
   "id": "5fccd864",
   "metadata": {
    "execution": {
     "iopub.execute_input": "2024-04-20T17:30:36.165002Z",
     "iopub.status.busy": "2024-04-20T17:30:36.164228Z",
     "iopub.status.idle": "2024-04-20T17:30:36.331245Z",
     "shell.execute_reply": "2024-04-20T17:30:36.330055Z"
    },
    "papermill": {
     "duration": 0.191947,
     "end_time": "2024-04-20T17:30:36.334362",
     "exception": false,
     "start_time": "2024-04-20T17:30:36.142415",
     "status": "completed"
    },
    "tags": []
   },
   "outputs": [],
   "source": [
    "from sklearn.model_selection import train_test_split\n",
    "from sklearn.naive_bayes import MultinomialNB\n",
    "from sklearn.ensemble import RandomForestClassifier\n",
    "from sklearn.neighbors import KNeighborsClassifier\n",
    "from sklearn.svm import SVC\n",
    "from sklearn.feature_extraction.text import TfidfVectorizer"
   ]
  },
  {
   "cell_type": "code",
   "execution_count": 32,
   "id": "19898afe",
   "metadata": {
    "execution": {
     "iopub.execute_input": "2024-04-20T17:30:36.378929Z",
     "iopub.status.busy": "2024-04-20T17:30:36.378391Z",
     "iopub.status.idle": "2024-04-20T17:30:36.786634Z",
     "shell.execute_reply": "2024-04-20T17:30:36.785243Z"
    },
    "papermill": {
     "duration": 0.433567,
     "end_time": "2024-04-20T17:30:36.789246",
     "exception": false,
     "start_time": "2024-04-20T17:30:36.355679",
     "status": "completed"
    },
    "tags": []
   },
   "outputs": [
    {
     "data": {
      "text/plain": [
       "dtype('float64')"
      ]
     },
     "execution_count": 32,
     "metadata": {},
     "output_type": "execute_result"
    }
   ],
   "source": [
    "tfidf = TfidfVectorizer()\n",
    "X = tfidf.fit_transform(data['corpus']).toarray()\n",
    "X.dtype"
   ]
  },
  {
   "cell_type": "code",
   "execution_count": 33,
   "id": "75693d79",
   "metadata": {
    "execution": {
     "iopub.execute_input": "2024-04-20T17:30:36.831617Z",
     "iopub.status.busy": "2024-04-20T17:30:36.831109Z",
     "iopub.status.idle": "2024-04-20T17:30:37.180441Z",
     "shell.execute_reply": "2024-04-20T17:30:37.179073Z"
    },
    "papermill": {
     "duration": 0.37449,
     "end_time": "2024-04-20T17:30:37.183752",
     "exception": false,
     "start_time": "2024-04-20T17:30:36.809262",
     "status": "completed"
    },
    "tags": []
   },
   "outputs": [],
   "source": [
    "X_train, X_test, y_train, y_test = train_test_split(X, y, test_size=0.2, random_state=42)"
   ]
  },
  {
   "cell_type": "code",
   "execution_count": 34,
   "id": "f07ba826",
   "metadata": {
    "execution": {
     "iopub.execute_input": "2024-04-20T17:30:37.316919Z",
     "iopub.status.busy": "2024-04-20T17:30:37.316405Z",
     "iopub.status.idle": "2024-04-20T17:32:59.753125Z",
     "shell.execute_reply": "2024-04-20T17:32:59.751813Z"
    },
    "papermill": {
     "duration": 142.461983,
     "end_time": "2024-04-20T17:32:59.756538",
     "exception": false,
     "start_time": "2024-04-20T17:30:37.294555",
     "status": "completed"
    },
    "tags": []
   },
   "outputs": [],
   "source": [
    "models = [MultinomialNB(), \n",
    "               RandomForestClassifier(),\n",
    "               KNeighborsClassifier(), \n",
    "               SVC()]\n",
    "for cls in models:\n",
    "    cls.fit(X_train, y_train)"
   ]
  },
  {
   "cell_type": "code",
   "execution_count": 35,
   "id": "24458ac4",
   "metadata": {
    "execution": {
     "iopub.execute_input": "2024-04-20T17:32:59.798803Z",
     "iopub.status.busy": "2024-04-20T17:32:59.798058Z",
     "iopub.status.idle": "2024-04-20T17:52:25.826717Z",
     "shell.execute_reply": "2024-04-20T17:52:25.825412Z"
    },
    "papermill": {
     "duration": 1166.073125,
     "end_time": "2024-04-20T17:52:25.850026",
     "exception": false,
     "start_time": "2024-04-20T17:32:59.776901",
     "status": "completed"
    },
    "tags": []
   },
   "outputs": [
    {
     "name": "stdout",
     "output_type": "stream",
     "text": [
      "NaiveBayes: 0.958265 \n",
      "RandomForest: 0.973074 \n",
      "KNeighbours: 0.899260 \n",
      "SVC: 0.970604 \n"
     ]
    }
   ],
   "source": [
    "from sklearn.pipeline import Pipeline   \n",
    "pipe_dict = {0: \"NaiveBayes\", 1: \"RandomForest\", 2: \"KNeighbours\",3: \"SVC\"}\n",
    "from sklearn.model_selection import cross_val_score\n",
    "for i, model in enumerate(models):\n",
    "    cv_score = cross_val_score(model, X_train,y_train,scoring=\"accuracy\", cv=10)\n",
    "    print(\"%s: %f \" % (pipe_dict[i], cv_score.mean()))"
   ]
  },
  {
   "cell_type": "code",
   "execution_count": null,
   "id": "38e90989",
   "metadata": {
    "papermill": {
     "duration": 0.019981,
     "end_time": "2024-04-20T17:52:25.890806",
     "exception": false,
     "start_time": "2024-04-20T17:52:25.870825",
     "status": "completed"
    },
    "tags": []
   },
   "outputs": [],
   "source": []
  }
 ],
 "metadata": {
  "kaggle": {
   "accelerator": "none",
   "dataSources": [
    {
     "datasetId": 483,
     "sourceId": 982,
     "sourceType": "datasetVersion"
    }
   ],
   "dockerImageVersionId": 30698,
   "isGpuEnabled": false,
   "isInternetEnabled": true,
   "language": "python",
   "sourceType": "notebook"
  },
  "kernelspec": {
   "display_name": "Python 3",
   "language": "python",
   "name": "python3"
  },
  "language_info": {
   "codemirror_mode": {
    "name": "ipython",
    "version": 3
   },
   "file_extension": ".py",
   "mimetype": "text/x-python",
   "name": "python",
   "nbconvert_exporter": "python",
   "pygments_lexer": "ipython3",
   "version": "3.10.13"
  },
  "papermill": {
   "default_parameters": {},
   "duration": 1342.722194,
   "end_time": "2024-04-20T17:52:27.141049",
   "environment_variables": {},
   "exception": null,
   "input_path": "__notebook__.ipynb",
   "output_path": "__notebook__.ipynb",
   "parameters": {},
   "start_time": "2024-04-20T17:30:04.418855",
   "version": "2.5.0"
  }
 },
 "nbformat": 4,
 "nbformat_minor": 5
}
